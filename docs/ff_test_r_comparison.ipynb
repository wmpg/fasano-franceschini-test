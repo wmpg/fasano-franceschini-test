{
 "cells": [
  {
   "cell_type": "markdown",
   "id": "b2d5436d-1d67-4b5f-855b-8969f123f2c9",
   "metadata": {},
   "source": [
    "Comparing our `fftest_2samp()` function to the `R` implementation by Puritz et al. (2023):"
   ]
  },
  {
   "cell_type": "code",
   "execution_count": 1,
   "id": "63f64662-5498-4a9c-9034-14f72d66c431",
   "metadata": {
    "vscode": {
     "languageId": "r"
    }
   },
   "outputs": [],
   "source": [
    "library(fasano.franceschini.test)"
   ]
  },
  {
   "cell_type": "markdown",
   "id": "83472284-6933-418d-8c91-05817fa6caa7",
   "metadata": {},
   "source": [
    "Generate the data:"
   ]
  },
  {
   "cell_type": "code",
   "execution_count": 2,
   "id": "0da0d1ff-febe-4a27-abd1-89bb93586f3c",
   "metadata": {
    "vscode": {
     "languageId": "r"
    }
   },
   "outputs": [],
   "source": [
    "# set.seed(0)  # set seed\n",
    "n1 <- 100\n",
    "n2 <- 200\n",
    "# same distribution\n",
    "s1 <- data.frame(x1 = rnorm(n=n1, mean=0, sd=2), \n",
    "                 x2 = rnorm(n=n1, mean=1, sd=1), \n",
    "                 x3 = rnorm(n=n1, mean=3, sd=4))\n",
    "s2 <- data.frame(x1 = rnorm(n=n2, mean=0, sd=2), \n",
    "                 x2 = rnorm(n=n2, mean=1, sd=1), \n",
    "                 x3 = rnorm(n=n2, mean=3, sd=4))\n",
    "# different distribution\n",
    "s2_alt <- data.frame(x1 = rnorm(n=n2, mean=3, sd=1), \n",
    "                     x2 = rnorm(n=n2, mean=0, sd=4), \n",
    "                     x3 = rnorm(n=n2, mean=1, sd=2))"
   ]
  },
  {
   "cell_type": "markdown",
   "id": "752cd692-5cdf-4774-8f5b-af7c9750152c",
   "metadata": {},
   "source": [
    "Perform the test:"
   ]
  },
  {
   "cell_type": "code",
   "execution_count": 3,
   "id": "25ad5575-4797-40c9-927a-420c27766a99",
   "metadata": {
    "vscode": {
     "languageId": "r"
    }
   },
   "outputs": [
    {
     "data": {
      "text/plain": [
       "\n",
       "\tFasano-Franceschini Test\n",
       "\n",
       "data:  s1 and s2\n",
       "D = 4300, p-value = 0.9639\n"
      ]
     },
     "metadata": {},
     "output_type": "display_data"
    }
   ],
   "source": [
    "ff_test <- fasano.franceschini.test(s1, s2)\n",
    "ff_test"
   ]
  },
  {
   "cell_type": "markdown",
   "id": "9e3463e0-f808-4eec-89d0-d5fe31edac0f",
   "metadata": {},
   "source": [
    "The Fasano-Franceschini implementation by Puritz et al. (2023) uses $D = n_1n_2\\left(D_{n_1} + D_{n_2}\\right)$ as the test statistic, so we use $D_n = \\frac{D}{ 2\\sqrt{n_1n_2\\left(n_1+n_2\\right)}}$ to convert from their test statistic $D$ to ours, $D_n$:"
   ]
  },
  {
   "cell_type": "code",
   "execution_count": 4,
   "id": "e54513be-e211-466f-abc7-272bea3303be",
   "metadata": {
    "vscode": {
     "languageId": "r"
    }
   },
   "outputs": [
    {
     "data": {
      "text/html": [
       "<strong>D:</strong> 0.877733824497306"
      ],
      "text/latex": [
       "\\textbf{D:} 0.877733824497306"
      ],
      "text/markdown": [
       "**D:** 0.877733824497306"
      ],
      "text/plain": [
       "        D \n",
       "0.8777338 "
      ]
     },
     "metadata": {},
     "output_type": "display_data"
    }
   ],
   "source": [
    "ff_test$statistic/(2 * sqrt(n1 * n2 * (n1 + n2)))"
   ]
  }
 ],
 "metadata": {
  "kernelspec": {
   "display_name": "R",
   "language": "R",
   "name": "ir"
  },
  "language_info": {
   "codemirror_mode": "r",
   "file_extension": ".r",
   "mimetype": "text/x-r-source",
   "name": "R",
   "pygments_lexer": "r",
   "version": "4.3.1"
  }
 },
 "nbformat": 4,
 "nbformat_minor": 5
}
