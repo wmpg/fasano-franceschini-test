{
 "cells": [
  {
   "cell_type": "markdown",
   "id": "30c2ec65-156b-416a-a42b-bc4b3d64ad19",
   "metadata": {},
   "source": [
    "The `fftest_2samp` function from `fftest` performs the multidimensional $2$-sample K-S test:"
   ]
  },
  {
   "cell_type": "code",
   "execution_count": 1,
   "id": "1d2c25eb-66d1-44d9-bb0e-5e31f13ea69c",
   "metadata": {},
   "outputs": [],
   "source": [
    "from fftest import fftest_2samp"
   ]
  },
  {
   "cell_type": "markdown",
   "id": "ff879dd4-c647-42ff-b8f1-1eced34a27b4",
   "metadata": {},
   "source": [
    "Set seed:"
   ]
  },
  {
   "cell_type": "code",
   "execution_count": 2,
   "id": "f09eed54-f02e-4b0b-8b1e-a54828a35fe0",
   "metadata": {},
   "outputs": [],
   "source": [
    "import numpy as np\n",
    "rng = np.random.default_rng()"
   ]
  },
  {
   "cell_type": "markdown",
   "id": "feba7894-013f-48c6-9da5-4e6494344ba1",
   "metadata": {},
   "source": [
    "Create two $3$-D samples drawn from the same distribution and from different distributions:"
   ]
  },
  {
   "cell_type": "code",
   "execution_count": 3,
   "id": "9882c9a9-4f20-4a3f-be53-416768977be1",
   "metadata": {},
   "outputs": [],
   "source": [
    "n1 = 100\n",
    "n2 = 200\n",
    "# same distribution\n",
    "s1 = np.c_[rng.normal(0, 2, size=n1), \n",
    "           rng.normal(1, 1, size=n1), \n",
    "           rng.normal(3, 4, size=n1)]\n",
    "s2 = np.c_[rng.normal(0, 2, size=n2), \n",
    "           rng.normal(1, 1, size=n2), \n",
    "           rng.normal(3, 4, size=n2)]\n",
    "# different distribution\n",
    "s2_alt = np.c_[rng.normal(3, 1, size=n2), \n",
    "               rng.normal(0, 4, size=n2), \n",
    "               rng.normal(1, 2, size=n2)]"
   ]
  },
  {
   "cell_type": "markdown",
   "id": "2d3e3ed6-f9da-4b51-a3a4-be6388d02747",
   "metadata": {},
   "source": [
    "Perform the $2$-sample FF-test on samples from the same distribution:"
   ]
  },
  {
   "cell_type": "code",
   "execution_count": 4,
   "id": "f32def4d-2220-4b5d-a8de-8f2f9d14a06a",
   "metadata": {},
   "outputs": [
    {
     "data": {
      "text/plain": [
       "(1.2247448713915894, 0.4040517643534405)"
      ]
     },
     "execution_count": 4,
     "metadata": {},
     "output_type": "execute_result"
    }
   ],
   "source": [
    "fftest_2samp(s1, s2)"
   ]
  },
  {
   "cell_type": "markdown",
   "id": "58ec8124-3f6f-42b2-a755-cc82fc38ad97",
   "metadata": {},
   "source": [
    "And from different distributions:"
   ]
  },
  {
   "cell_type": "code",
   "execution_count": 5,
   "id": "d53baa5f-de62-4cb1-88d9-fc47c9a1073a",
   "metadata": {},
   "outputs": [
    {
     "data": {
      "text/plain": [
       "(6.082899527911559, 0.0027587385041719053)"
      ]
     },
     "execution_count": 5,
     "metadata": {},
     "output_type": "execute_result"
    }
   ],
   "source": [
    "fftest_2samp(s1, s2_alt)"
   ]
  },
  {
   "cell_type": "markdown",
   "id": "f5d6f3ca-573f-40d5-a706-b1a3817159eb",
   "metadata": {},
   "source": [
    "The number of permutations in the significance test can be changed:"
   ]
  },
  {
   "cell_type": "code",
   "execution_count": 6,
   "id": "ec1a183f-4dd9-40e4-8b4f-aa11d9f908f0",
   "metadata": {},
   "outputs": [
    {
     "data": {
      "text/plain": [
       "(1.2247448713915894, 0.48055636345136965)"
      ]
     },
     "execution_count": 6,
     "metadata": {},
     "output_type": "execute_result"
    }
   ],
   "source": [
    "fftest_2samp(s1, s2, n_perms=200)  # more permutations"
   ]
  },
  {
   "cell_type": "markdown",
   "id": "e2c4759f-c5dc-4883-bd1b-0dfd595c2456",
   "metadata": {},
   "source": [
    "If set equal to $0$, only the test statistic is returned:"
   ]
  },
  {
   "cell_type": "code",
   "execution_count": 7,
   "id": "762efbab-aec7-4caf-ab06-14c965ed877e",
   "metadata": {},
   "outputs": [
    {
     "data": {
      "text/plain": [
       "1.2247448713915894"
      ]
     },
     "execution_count": 7,
     "metadata": {},
     "output_type": "execute_result"
    }
   ],
   "source": [
    "fftest_2samp(s1, s2, n_perms=0)  # only the test statistic"
   ]
  },
  {
   "cell_type": "markdown",
   "id": "8c7bfc4d-d477-4ea8-8c5a-938f34cedcd8",
   "metadata": {},
   "source": [
    "Multiple threads can be used to speed up computation:"
   ]
  },
  {
   "cell_type": "code",
   "execution_count": 8,
   "id": "4a11979c-65f8-4993-b654-896c98da1eb4",
   "metadata": {},
   "outputs": [
    {
     "data": {
      "text/plain": [
       "(1.2247448713915894, 0.441551938370401)"
      ]
     },
     "execution_count": 8,
     "metadata": {},
     "output_type": "execute_result"
    }
   ],
   "source": [
    "fftest_2samp(s1, s2, threads=2)  # more threads"
   ]
  },
  {
   "cell_type": "markdown",
   "id": "e7671961-15d1-4e9b-b01c-c01bc6631bd8",
   "metadata": {},
   "source": [
    "If set to `\"auto\"`, the number of threads is determined by `multiprocessing.cpu_count() - 1`: "
   ]
  },
  {
   "cell_type": "code",
   "execution_count": 9,
   "id": "1e195573-f45b-4f5c-879f-88bbe30a48c8",
   "metadata": {},
   "outputs": [
    {
     "data": {
      "text/plain": [
       "(1.2247448713915894, 0.48272806352742365)"
      ]
     },
     "execution_count": 9,
     "metadata": {},
     "output_type": "execute_result"
    }
   ],
   "source": [
    "fftest_2samp(s1, s2, threads=\"auto\")  # all but one core"
   ]
  },
  {
   "cell_type": "markdown",
   "id": "d8bc5021-029e-49f4-88b6-eefcac279871",
   "metadata": {},
   "source": [
    "A seed can be set for the permutation significance test to reproduce the $p$-value:"
   ]
  },
  {
   "cell_type": "code",
   "execution_count": 10,
   "id": "737b322c-2107-46f0-82f6-c49386fee67f",
   "metadata": {},
   "outputs": [
    {
     "data": {
      "text/plain": [
       "(1.2247448713915894, 0.4092348061404394)"
      ]
     },
     "execution_count": 10,
     "metadata": {},
     "output_type": "execute_result"
    }
   ],
   "source": [
    "fftest_2samp(s1, s2, seed=0)  # set seed"
   ]
  }
 ],
 "metadata": {
  "kernelspec": {
   "display_name": "wmpl",
   "language": "python",
   "name": "python3"
  },
  "language_info": {
   "codemirror_mode": {
    "name": "ipython",
    "version": 3
   },
   "file_extension": ".py",
   "mimetype": "text/x-python",
   "name": "python",
   "nbconvert_exporter": "python",
   "pygments_lexer": "ipython3",
   "version": "3.8.18"
  }
 },
 "nbformat": 4,
 "nbformat_minor": 5
}
